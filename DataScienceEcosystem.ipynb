{
 "cells": [
  {
   "cell_type": "markdown",
   "id": "d14b3bf4",
   "metadata": {},
   "source": [
    "# Data Science Tools and Ecosystem"
   ]
  },
  {
   "cell_type": "markdown",
   "id": "78631756",
   "metadata": {},
   "source": [
    " In this notebook, Data Science Tools and Ecosystem are summarized"
   ]
  },
  {
   "cell_type": "markdown",
   "id": "26959bf9",
   "metadata": {},
   "source": [
    " This a simple arithmetic expression to multiply then add integers"
   ]
  },
  {
   "cell_type": "markdown",
   "id": "6ead3991",
   "metadata": {},
   "source": [
    "Some of the popular languages that Data Scientist use are:\n",
    "R\n",
    "Python\n",
    "Scala"
   ]
  },
  {
   "cell_type": "markdown",
   "id": "a222baf7",
   "metadata": {},
   "source": [
    "Some of the commonly used libraries used by Data Scientists include:"
   ]
  },
  {
   "cell_type": "markdown",
   "id": "00bf0ad6",
   "metadata": {},
   "source": [
    "R\n",
    "SQL\n",
    "Python"
   ]
  },
  {
   "cell_type": "raw",
   "id": "0aa65d2a",
   "metadata": {},
   "source": [
    "|Data Science Tools|\n",
    "+------------------+\n",
    "|Rstudio           |\n",
    "|Apache spark      |\n",
    "|Tensorflow        |\n",
    "+------------------+"
   ]
  },
  {
   "cell_type": "markdown",
   "id": "e06eb088",
   "metadata": {},
   "source": [
    "### Below are a few examples of evaluating arithmetic expressions in Python"
   ]
  },
  {
   "cell_type": "markdown",
   "id": "b371114c",
   "metadata": {},
   "source": [
    "(3*4)+5"
   ]
  },
  {
   "cell_type": "markdown",
   "id": "e2f866cd",
   "metadata": {},
   "source": [
    "This will convert 200 minutes to hours by diving by 60"
   ]
  },
  {
   "cell_type": "code",
   "execution_count": 4,
   "id": "feea0b28",
   "metadata": {},
   "outputs": [
    {
     "name": "stdout",
     "output_type": "stream",
     "text": [
      "Hours: 3.3333333333333335\n"
     ]
    }
   ],
   "source": [
    "minutes=200\n",
    "hours=minutes/60\n",
    "print(\"Hours:\", hours)"
   ]
  },
  {
   "cell_type": "markdown",
   "id": "1a9f7c03",
   "metadata": {},
   "source": [
    "In this notebook, Data Science Tools and Ecosystem are summarized"
   ]
  },
  {
   "cell_type": "markdown",
   "id": "665962fb",
   "metadata": {},
   "source": [
    "**Objectives**"
   ]
  },
  {
   "cell_type": "markdown",
   "id": "cdee9c68",
   "metadata": {},
   "source": [
    "List popular languages for data scientist"
   ]
  },
  {
   "cell_type": "markdown",
   "id": "3c88a1ae",
   "metadata": {
    "raw_mimetype": "text/markdown"
   },
   "source": [
    "R\n",
    "Python\n",
    "Julia"
   ]
  },
  {
   "cell_type": "markdown",
   "id": "64df694d",
   "metadata": {},
   "source": [
    "## Author"
   ]
  },
  {
   "cell_type": "markdown",
   "id": "db8e19fc",
   "metadata": {},
   "source": [
    "Lutendo Sylvester Malange"
   ]
  },
  {
   "cell_type": "code",
   "execution_count": null,
   "id": "a14de0bc",
   "metadata": {},
   "outputs": [],
   "source": []
  }
 ],
 "metadata": {
  "celltoolbar": "Raw Cell Format",
  "kernelspec": {
   "display_name": "Python 3 (ipykernel)",
   "language": "python",
   "name": "python3"
  },
  "language_info": {
   "codemirror_mode": {
    "name": "ipython",
    "version": 3
   },
   "file_extension": ".py",
   "mimetype": "text/x-python",
   "name": "python",
   "nbconvert_exporter": "python",
   "pygments_lexer": "ipython3",
   "version": "3.10.9"
  }
 },
 "nbformat": 4,
 "nbformat_minor": 5
}
